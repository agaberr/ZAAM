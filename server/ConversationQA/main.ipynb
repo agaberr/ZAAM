{
 "cells": [
  {
   "cell_type": "code",
   "execution_count": 1,
   "metadata": {},
   "outputs": [
    {
     "name": "stdout",
     "output_type": "stream",
     "text": [
      "Predicted Answer: He started his professional career in Egypt before moving to Europe, where he played for clubs like Basel, Chelsea, Fiorentina, and Roma.\n"
     ]
    }
   ],
   "source": [
    "from QuestionAnswering import Preprocessing\n",
    "\n",
    "\n",
    "def main():\n",
    "    user_passage = \"Football, known as soccer in some parts of the world, is the most popular sport on the planet, uniting millions of fans through its energy, passion, and unforgettable moments. It is a game that requires skill, teamwork, and strategy, making it thrilling to watch and play. From grassroots matches to elite competitions like the FIFA World Cup and the UEFA Champions League, football continues to inspire generations.  \\n\\nOne of the most celebrated footballers in recent years is Mohamed Salah, the Egyptian superstar who has taken the football world by storm. Born in 1992 in Nagrig, Egypt, Salah’s journey to stardom was not easy. He started his professional career in Egypt before moving to Europe, where he played for clubs like Basel, Chelsea, Fiorentina, and Roma. However, it was at Liverpool where he truly became a global icon.  \\n\\nSince joining Liverpool in 2017, Salah has broken numerous records, winning the Premier League, Champions League, and multiple Golden Boot awards. Known for his incredible speed, dribbling skills, and clinical finishing, he has become one of the best forwards in the world. Beyond his talent on the field, Salah is admired for his humility, hard work, and dedication to his country, making him a role model for aspiring athletes, especially in the Arab world.  \\n\\nHis influence extends beyond football, as he has played a significant role in changing perceptions about Arab and African players in Europe. Whether scoring stunning goals or assisting teammates, Mohamed Salah continues to shine as one of football’s greatest stars, inspiring millions with his talent and determination.\"\n",
    "    user_question = \"Tell me where he plays for now\"\n",
    "    preprocessing = Preprocessing()\n",
    "    preprocessing.get_answer_from_passage(user_passage, user_question)\n",
    "\n",
    "if __name__ == \"__main__\":\n",
    "    main()"
   ]
  },
  {
   "cell_type": "code",
   "execution_count": null,
   "metadata": {},
   "outputs": [],
   "source": []
  }
 ],
 "metadata": {
  "kernelspec": {
   "display_name": "Python 3",
   "language": "python",
   "name": "python3"
  },
  "language_info": {
   "codemirror_mode": {
    "name": "ipython",
    "version": 3
   },
   "file_extension": ".py",
   "mimetype": "text/x-python",
   "name": "python",
   "nbconvert_exporter": "python",
   "pygments_lexer": "ipython3",
   "version": "3.11.2"
  }
 },
 "nbformat": 4,
 "nbformat_minor": 2
}
